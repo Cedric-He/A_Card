{
 "cells": [
  {
   "cell_type": "code",
   "execution_count": 113,
   "source": [
    "%run tools.ipynb"
   ],
   "outputs": [],
   "metadata": {}
  },
  {
   "cell_type": "code",
   "execution_count": null,
   "source": [
    "import pandas as pd\r\n",
    "data = pd.read_csv('data.csv',header = 0,encoding = 'ansi')\r\n",
    "# 读数据！\r\n",
    "missval = -9999\r\n",
    "data.replace({'@':missval},inplace = True)\r\n",
    "data.fillna(missval,inplace = True)\r\n",
    "#去空缺\r\n",
    "import numpy as np\r\n",
    "from sklearn.linear_model import LogisticRegression\r\n",
    "from sklearn.model_selection import train_test_split\r\n",
    "from matplotlib import pyplot as plt\r\n",
    "#data['JY_CNT_FLG'].replace({'LOW':1,'MID':2,'HIGH':3},inplace=True)\r\n",
    "#data['GENDER_CD'].replace({'男':0,'女':1},inplace=True)\r\n",
    "data['CUST_LVL_CD'].replace({'DW001':'0'},inplace=True)\r\n",
    "data.iloc[:,59] = data.iloc[:,59].astype(int)\r\n",
    "#切成测试与训练集\r\n",
    "bins = Chimerge(data)\r\n",
    "bins.cal_missing_ratio()\r\n",
    "bins._kickvalue()\r\n",
    "bins.cal_missing_ratio()\r\n",
    "#统计缺失率\r\n",
    "data_ts,data_tr,Yts,Ytr = train_test_split(bins.data.drop(['good','bad','chi'],axis=1),data['good'],test_size = 0.25)\r\n",
    "data_ts = pd.DataFrame.join(data_ts,Yts)\r\n",
    "data_tr = pd.DataFrame.join(data_tr,Ytr)\r\n",
    "#再处理"
   ],
   "outputs": [],
   "metadata": {}
  },
  {
   "cell_type": "markdown",
   "source": [
    "%run plot.ipynb\r\n",
    "plot(x = bins.label,\r\n",
    "y = bins.missratio,\r\n",
    "toptitle = \"缺省率与VI值\",\r\n",
    "xtitle = \"变量种类\",\r\n",
    "ytitle = \"缺省率\",\r\n",
    "name1 = '缺省',\r\n",
    "tr2 = True,\r\n",
    "y2 = [IVs[i][0] for i in range(len(IVs))],\r\n",
    "ytitle2 = 'IV值',\r\n",
    "name2 = 'IV值'\r\n",
    ")\r\n",
    "#简简单单画个图"
   ],
   "metadata": {}
  },
  {
   "cell_type": "code",
   "execution_count": 114,
   "source": [
    "encoder(data['JY_CNT_FLG_CNL17'])"
   ],
   "outputs": [
    {
     "output_type": "stream",
     "name": "stdout",
     "text": [
      "{'1-2': 0, '3-6': 1, '7-10': 2, '11-15': 3, '15+': 4}\n"
     ]
    },
    {
     "output_type": "execute_result",
     "data": {
      "text/plain": [
       "0        -9999\n",
       "1            0\n",
       "2        -9999\n",
       "3            1\n",
       "4        -9999\n",
       "          ... \n",
       "138458   -9999\n",
       "138459   -9999\n",
       "138460   -9999\n",
       "138461   -9999\n",
       "138462   -9999\n",
       "Name: JY_CNT_FLG_CNL17, Length: 138463, dtype: int64"
      ]
     },
     "metadata": {},
     "execution_count": 114
    }
   ],
   "metadata": {}
  },
  {
   "cell_type": "code",
   "execution_count": 90,
   "source": [
    "a1 = np.array([1,3,2])\r\n",
    "np.argsort(a1)"
   ],
   "outputs": [
    {
     "output_type": "execute_result",
     "data": {
      "text/plain": [
       "array([0, 2, 1], dtype=int64)"
      ]
     },
     "metadata": {},
     "execution_count": 90
    }
   ],
   "metadata": {}
  },
  {
   "cell_type": "code",
   "execution_count": 92,
   "source": [
    "import re\r\n",
    "a = '+1'\r\n",
    "b = '-6'\r\n",
    "re.split('\\+',b)[0]"
   ],
   "outputs": [
    {
     "output_type": "execute_result",
     "data": {
      "text/plain": [
       "'-6'"
      ]
     },
     "metadata": {},
     "execution_count": 92
    }
   ],
   "metadata": {}
  }
 ],
 "metadata": {
  "orig_nbformat": 4,
  "language_info": {
   "name": "python",
   "version": "3.8.3",
   "mimetype": "text/x-python",
   "codemirror_mode": {
    "name": "ipython",
    "version": 3
   },
   "pygments_lexer": "ipython3",
   "nbconvert_exporter": "python",
   "file_extension": ".py"
  },
  "kernelspec": {
   "name": "python3",
   "display_name": "Python 3.8.3 64-bit ('base': conda)"
  },
  "interpreter": {
   "hash": "cc5f70855ac006f3de45a3cc3b9e7d8d53845e50458809cb162b0174266dec97"
  }
 },
 "nbformat": 4,
 "nbformat_minor": 2
}